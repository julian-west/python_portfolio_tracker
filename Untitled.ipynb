{
 "cells": [
  {
   "cell_type": "markdown",
   "id": "freelance-rider",
   "metadata": {},
   "source": [
    "## Test notebook\n",
    "\n",
    "Is this a doc string?"
   ]
  },
  {
   "cell_type": "code",
   "execution_count": 3,
   "id": "understanding-rates",
   "metadata": {},
   "outputs": [],
   "source": [
    "def hello() -> int:\n",
    "    \"\"\"hello world\"\"\"\n",
    "    return 2"
   ]
  },
  {
   "cell_type": "code",
   "execution_count": 5,
   "id": "institutional-screening",
   "metadata": {},
   "outputs": [],
   "source": [
    "def long_func():\n",
    "    \"\"\"long func\"\"\"\n",
    "    return False"
   ]
  },
  {
   "cell_type": "code",
   "execution_count": null,
   "id": "acute-linux",
   "metadata": {},
   "outputs": [],
   "source": []
  }
 ],
 "metadata": {
  "kernelspec": {
   "display_name": "crocus",
   "language": "python",
   "name": "crocus"
  },
  "language_info": {
   "codemirror_mode": {
    "name": "ipython",
    "version": 3
   },
   "file_extension": ".py",
   "mimetype": "text/x-python",
   "name": "python",
   "nbconvert_exporter": "python",
   "pygments_lexer": "ipython3",
   "version": "3.8.6"
  }
 },
 "nbformat": 4,
 "nbformat_minor": 5
}
